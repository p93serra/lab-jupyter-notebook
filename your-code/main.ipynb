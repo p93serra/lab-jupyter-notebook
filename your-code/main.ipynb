{
 "cells": [
  {
   "cell_type": "markdown",
   "metadata": {},
   "source": [
    "# <font color='red'> My favourite holidays </font>"
   ]
  },
  {
   "cell_type": "markdown",
   "metadata": {},
   "source": [
    "<img src=\"images/myself.jpg\" />\n",
    "<p> Hi, </p>\n",
    "<p> My name is Pau and I would go through my top 3 trips so far :-) </p>"
   ]
  },
  {
   "cell_type": "code",
   "execution_count": null,
   "metadata": {},
   "outputs": [],
   "source": []
  },
  {
   "cell_type": "markdown",
   "metadata": {},
   "source": [
    "### <font color='blue'> Table of Contents </font>\n",
    "\n",
    "* [1.Colombia](#colombia)\n",
    "    * [Favourite picture:](#colombia_1)\n",
    "    * [Top things:](#colombia_2)\n",
    "* [2.Myanmar](#myanmar)\n",
    "    * [Favourite picture:](#myanmar_1)\n",
    "    * [Top things:](#myanmar_2)\n",
    "* [3.Iceland](#iceland)\n",
    "    * [Favourite picture:](#iceland_1)\n",
    "    * [Top things:](#iceland_2)"
   ]
  },
  {
   "cell_type": "markdown",
   "metadata": {},
   "source": [
    "## <font color='green'> 1.Colombia </font> <a class=\"anchor\" id=\"colombia\"></a> "
   ]
  },
  {
   "cell_type": "markdown",
   "metadata": {},
   "source": [
    "### Favourite picture: <a class=\"anchor\" id=\"colombia_1\"></a> \n",
    "<img src=\"images/colombia.jpg\" style=\"width:500px\"/>"
   ]
  },
  {
   "cell_type": "markdown",
   "metadata": {},
   "source": [
    "### Top things: <a class=\"anchor\" id=\"colombia_2\"></a> \n",
    "* **People**: we could think that is a dangerous place due to the latest TV shows but people are lovely.\n",
    "* **Nature**: you can go to mountains over 5000m, to a desert that ends in the sea, to caribean beaches, ...\n",
    "* **Empty**: this country is still not very use to the tourism so you feel like a local person"
   ]
  },
  {
   "cell_type": "markdown",
   "metadata": {},
   "source": [
    "## <font color='green'> 2.Myanmar </font> <a class=\"anchor\" id=\"myanmar\"></a>"
   ]
  },
  {
   "cell_type": "markdown",
   "metadata": {},
   "source": [
    "### Favourite picture: <a class=\"anchor\" id=\"myanmar_1\"></a> \n",
    "<img src=\"images/myanmar.jpg\" style=\"width:500px\"/>"
   ]
  },
  {
   "cell_type": "markdown",
   "metadata": {},
   "source": [
    "### Top things: <a class=\"anchor\" id=\"myanmar_2\"></a> \n",
    "* **People**: people is not use to tourism so everybody is super lovely with you.\n",
    "* **Culture**: you find monuments that are only present in this country. \n",
    "* **Empty**: this country is still not very use to the tourism so you feel like a privileged visitor in all the places that you go."
   ]
  },
  {
   "cell_type": "markdown",
   "metadata": {},
   "source": [
    "## <font color='green'> 3. Iceland </font> <a class=\"anchor\" id=\"iceland\"></a> "
   ]
  },
  {
   "cell_type": "markdown",
   "metadata": {},
   "source": [
    "### Favourite picture: <a class=\"anchor\" id=\"iceland_1\"></a> \n",
    "<img src=\"images/iceland.jpg\" style=\"width:500px\"/>"
   ]
  },
  {
   "cell_type": "markdown",
   "metadata": {},
   "source": [
    "### Top things: <a class=\"anchor\" id=\"iceland_2\"></a>\n",
    "* **Landscapes**: An island of striking landscapes, where rivers run through deserts and molten lava erupts from ice, Iceland is a realm of stark contrasts.\n",
    "* **Nature**: you can go to mountains over 5000m, to a desert that ends in the sea, to caribean beaches, ...\n",
    "* **Empty**: this country is still not very use to the tourism so you feel like a local person"
   ]
  },
  {
   "cell_type": "markdown",
   "metadata": {},
   "source": [
    "<iframe width=\"560\" height=\"315\" src=\"https://www.youtube.com/embed/u_f90pXw5sQ\" frameborder=\"0\" allow=\"accelerometer; autoplay; clipboard-write; encrypted-media; gyroscope; picture-in-picture\" allowfullscreen></iframe>"
   ]
  }
 ],
 "metadata": {
  "kernelspec": {
   "display_name": "Python 3",
   "language": "python",
   "name": "python3"
  },
  "language_info": {
   "codemirror_mode": {
    "name": "ipython",
    "version": 3
   },
   "file_extension": ".py",
   "mimetype": "text/x-python",
   "name": "python",
   "nbconvert_exporter": "python",
   "pygments_lexer": "ipython3",
   "version": "3.9.0"
  }
 },
 "nbformat": 4,
 "nbformat_minor": 4
}
